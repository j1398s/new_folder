{
 "cells": [
  {
   "cell_type": "code",
   "execution_count": 3,
   "id": "d89f599d",
   "metadata": {},
   "outputs": [],
   "source": [
    "# will add a script to separate b/a boundaries from tb"
   ]
  },
  {
   "cell_type": "code",
   "execution_count": null,
   "id": "f1b208b8",
   "metadata": {},
   "outputs": [],
   "source": []
  }
 ],
 "metadata": {
  "kernelspec": {
   "display_name": "Python 3 (ipykernel)",
   "language": "python",
   "name": "python3"
  },
  "language_info": {
   "codemirror_mode": {
    "name": "ipython",
    "version": 3
   },
   "file_extension": ".py",
   "mimetype": "text/x-python",
   "name": "python",
   "nbconvert_exporter": "python",
   "pygments_lexer": "ipython3",
   "version": "3.8.8"
  }
 },
 "nbformat": 4,
 "nbformat_minor": 5
}
