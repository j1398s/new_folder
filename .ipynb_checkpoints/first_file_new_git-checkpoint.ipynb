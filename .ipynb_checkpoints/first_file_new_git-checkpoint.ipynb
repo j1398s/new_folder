{
 "cells": [
  {
   "cell_type": "code",
   "execution_count": 2,
   "id": "d276e5ec",
   "metadata": {},
   "outputs": [],
   "source": [
    "# will add a script to separate bid and ask boundaries from trading book"
   ]
  },
  {
   "cell_type": "code",
   "execution_count": null,
   "id": "12f434db",
   "metadata": {},
   "outputs": [],
   "source": []
  }
 ],
 "metadata": {
  "kernelspec": {
   "display_name": "Python 3 (ipykernel)",
   "language": "python",
   "name": "python3"
  },
  "language_info": {
   "codemirror_mode": {
    "name": "ipython",
    "version": 3
   },
   "file_extension": ".py",
   "mimetype": "text/x-python",
   "name": "python",
   "nbconvert_exporter": "python",
   "pygments_lexer": "ipython3",
   "version": "3.8.8"
  }
 },
 "nbformat": 4,
 "nbformat_minor": 5
}
